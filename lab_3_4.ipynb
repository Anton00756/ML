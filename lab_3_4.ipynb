{
  "cells": [
    {
      "cell_type": "markdown",
      "source": [
        "# ЛР №3"
      ],
      "metadata": {
        "id": "mjok-vB2zkFH"
      },
      "id": "mjok-vB2zkFH"
    },
    {
      "cell_type": "code",
      "execution_count": 75,
      "id": "003483bc",
      "metadata": {
        "ExecuteTime": {
          "start_time": "2023-04-12T10:52:49.399787Z",
          "end_time": "2023-04-12T10:52:53.070823Z"
        },
        "colab": {
          "base_uri": "https://localhost:8080/",
          "height": 206
        },
        "id": "003483bc",
        "outputId": "4ed79d15-ed7c-4b49-efb8-bde1e92ca4e8"
      },
      "outputs": [
        {
          "output_type": "execute_result",
          "data": {
            "text/plain": [
              "   age     sex     bmi  children smoker     region      charges\n",
              "0   19  female  27.900         0    yes  southwest  16884.92400\n",
              "1   18    male  33.770         1     no  southeast   1725.55230\n",
              "2   28    male  33.000         3     no  southeast   4449.46200\n",
              "3   33    male  22.705         0     no  northwest  21984.47061\n",
              "4   32    male  28.880         0     no  northwest   3866.85520"
            ],
            "text/html": [
              "\n",
              "  <div id=\"df-d260b639-bceb-415d-bd23-70617c8161a3\">\n",
              "    <div class=\"colab-df-container\">\n",
              "      <div>\n",
              "<style scoped>\n",
              "    .dataframe tbody tr th:only-of-type {\n",
              "        vertical-align: middle;\n",
              "    }\n",
              "\n",
              "    .dataframe tbody tr th {\n",
              "        vertical-align: top;\n",
              "    }\n",
              "\n",
              "    .dataframe thead th {\n",
              "        text-align: right;\n",
              "    }\n",
              "</style>\n",
              "<table border=\"1\" class=\"dataframe\">\n",
              "  <thead>\n",
              "    <tr style=\"text-align: right;\">\n",
              "      <th></th>\n",
              "      <th>age</th>\n",
              "      <th>sex</th>\n",
              "      <th>bmi</th>\n",
              "      <th>children</th>\n",
              "      <th>smoker</th>\n",
              "      <th>region</th>\n",
              "      <th>charges</th>\n",
              "    </tr>\n",
              "  </thead>\n",
              "  <tbody>\n",
              "    <tr>\n",
              "      <th>0</th>\n",
              "      <td>19</td>\n",
              "      <td>female</td>\n",
              "      <td>27.900</td>\n",
              "      <td>0</td>\n",
              "      <td>yes</td>\n",
              "      <td>southwest</td>\n",
              "      <td>16884.92400</td>\n",
              "    </tr>\n",
              "    <tr>\n",
              "      <th>1</th>\n",
              "      <td>18</td>\n",
              "      <td>male</td>\n",
              "      <td>33.770</td>\n",
              "      <td>1</td>\n",
              "      <td>no</td>\n",
              "      <td>southeast</td>\n",
              "      <td>1725.55230</td>\n",
              "    </tr>\n",
              "    <tr>\n",
              "      <th>2</th>\n",
              "      <td>28</td>\n",
              "      <td>male</td>\n",
              "      <td>33.000</td>\n",
              "      <td>3</td>\n",
              "      <td>no</td>\n",
              "      <td>southeast</td>\n",
              "      <td>4449.46200</td>\n",
              "    </tr>\n",
              "    <tr>\n",
              "      <th>3</th>\n",
              "      <td>33</td>\n",
              "      <td>male</td>\n",
              "      <td>22.705</td>\n",
              "      <td>0</td>\n",
              "      <td>no</td>\n",
              "      <td>northwest</td>\n",
              "      <td>21984.47061</td>\n",
              "    </tr>\n",
              "    <tr>\n",
              "      <th>4</th>\n",
              "      <td>32</td>\n",
              "      <td>male</td>\n",
              "      <td>28.880</td>\n",
              "      <td>0</td>\n",
              "      <td>no</td>\n",
              "      <td>northwest</td>\n",
              "      <td>3866.85520</td>\n",
              "    </tr>\n",
              "  </tbody>\n",
              "</table>\n",
              "</div>\n",
              "      <button class=\"colab-df-convert\" onclick=\"convertToInteractive('df-d260b639-bceb-415d-bd23-70617c8161a3')\"\n",
              "              title=\"Convert this dataframe to an interactive table.\"\n",
              "              style=\"display:none;\">\n",
              "        \n",
              "  <svg xmlns=\"http://www.w3.org/2000/svg\" height=\"24px\"viewBox=\"0 0 24 24\"\n",
              "       width=\"24px\">\n",
              "    <path d=\"M0 0h24v24H0V0z\" fill=\"none\"/>\n",
              "    <path d=\"M18.56 5.44l.94 2.06.94-2.06 2.06-.94-2.06-.94-.94-2.06-.94 2.06-2.06.94zm-11 1L8.5 8.5l.94-2.06 2.06-.94-2.06-.94L8.5 2.5l-.94 2.06-2.06.94zm10 10l.94 2.06.94-2.06 2.06-.94-2.06-.94-.94-2.06-.94 2.06-2.06.94z\"/><path d=\"M17.41 7.96l-1.37-1.37c-.4-.4-.92-.59-1.43-.59-.52 0-1.04.2-1.43.59L10.3 9.45l-7.72 7.72c-.78.78-.78 2.05 0 2.83L4 21.41c.39.39.9.59 1.41.59.51 0 1.02-.2 1.41-.59l7.78-7.78 2.81-2.81c.8-.78.8-2.07 0-2.86zM5.41 20L4 18.59l7.72-7.72 1.47 1.35L5.41 20z\"/>\n",
              "  </svg>\n",
              "      </button>\n",
              "      \n",
              "  <style>\n",
              "    .colab-df-container {\n",
              "      display:flex;\n",
              "      flex-wrap:wrap;\n",
              "      gap: 12px;\n",
              "    }\n",
              "\n",
              "    .colab-df-convert {\n",
              "      background-color: #E8F0FE;\n",
              "      border: none;\n",
              "      border-radius: 50%;\n",
              "      cursor: pointer;\n",
              "      display: none;\n",
              "      fill: #1967D2;\n",
              "      height: 32px;\n",
              "      padding: 0 0 0 0;\n",
              "      width: 32px;\n",
              "    }\n",
              "\n",
              "    .colab-df-convert:hover {\n",
              "      background-color: #E2EBFA;\n",
              "      box-shadow: 0px 1px 2px rgba(60, 64, 67, 0.3), 0px 1px 3px 1px rgba(60, 64, 67, 0.15);\n",
              "      fill: #174EA6;\n",
              "    }\n",
              "\n",
              "    [theme=dark] .colab-df-convert {\n",
              "      background-color: #3B4455;\n",
              "      fill: #D2E3FC;\n",
              "    }\n",
              "\n",
              "    [theme=dark] .colab-df-convert:hover {\n",
              "      background-color: #434B5C;\n",
              "      box-shadow: 0px 1px 3px 1px rgba(0, 0, 0, 0.15);\n",
              "      filter: drop-shadow(0px 1px 2px rgba(0, 0, 0, 0.3));\n",
              "      fill: #FFFFFF;\n",
              "    }\n",
              "  </style>\n",
              "\n",
              "      <script>\n",
              "        const buttonEl =\n",
              "          document.querySelector('#df-d260b639-bceb-415d-bd23-70617c8161a3 button.colab-df-convert');\n",
              "        buttonEl.style.display =\n",
              "          google.colab.kernel.accessAllowed ? 'block' : 'none';\n",
              "\n",
              "        async function convertToInteractive(key) {\n",
              "          const element = document.querySelector('#df-d260b639-bceb-415d-bd23-70617c8161a3');\n",
              "          const dataTable =\n",
              "            await google.colab.kernel.invokeFunction('convertToInteractive',\n",
              "                                                     [key], {});\n",
              "          if (!dataTable) return;\n",
              "\n",
              "          const docLinkHtml = 'Like what you see? Visit the ' +\n",
              "            '<a target=\"_blank\" href=https://colab.research.google.com/notebooks/data_table.ipynb>data table notebook</a>'\n",
              "            + ' to learn more about interactive tables.';\n",
              "          element.innerHTML = '';\n",
              "          dataTable['output_type'] = 'display_data';\n",
              "          await google.colab.output.renderOutput(dataTable, element);\n",
              "          const docLink = document.createElement('div');\n",
              "          docLink.innerHTML = docLinkHtml;\n",
              "          element.appendChild(docLink);\n",
              "        }\n",
              "      </script>\n",
              "    </div>\n",
              "  </div>\n",
              "  "
            ]
          },
          "metadata": {},
          "execution_count": 75
        }
      ],
      "source": [
        "import pandas as pd\n",
        "import numpy as np\n",
        "import matplotlib.pyplot as plt\n",
        "\n",
        "insurance = pd.read_csv('insurance.csv')\n",
        "insurance.head(5)"
      ]
    },
    {
      "cell_type": "markdown",
      "id": "51c6fecf",
      "metadata": {
        "id": "51c6fecf"
      },
      "source": [
        "<dl>\n",
        "<dt> Описание колонок:\n",
        "<dd>age - возраст основного бенефициара </dd>\n",
        "<dd>sex - пол страховщика </dd>\n",
        "<dd>bmi - индекс массы тела, дающий представление о теле, весе, который относительно высок или низок по отношению к росту,\n",
        "объективный индекс массы тела (кг / м ^ 2)</dd>\n",
        "<dd>children - количество детей, охваченных медицинской страховкой </dd>\n",
        "<dd>smoker - курильщик или нет </dd>\n",
        "<dd>region - район проживания </dd>\n",
        "<dd>charges - индивидуальные медицинские расходы, оплачиваемые медицинской страховкой </dd>\n",
        "</dl>\n"
      ]
    },
    {
      "cell_type": "markdown",
      "source": [
        "Создаём таргет: коэффициент стоимости страховки в зависимости от bmi"
      ],
      "metadata": {
        "id": "iGwdEpbgkX46"
      },
      "id": "iGwdEpbgkX46"
    },
    {
      "cell_type": "code",
      "execution_count": 76,
      "id": "559e840d",
      "metadata": {
        "ExecuteTime": {
          "start_time": "2023-04-12T10:52:56.985595Z",
          "end_time": "2023-04-12T10:52:59.717101Z"
        },
        "id": "559e840d"
      },
      "outputs": [],
      "source": [
        "insurance['charges_coef'] = insurance['charges'] / insurance['bmi']"
      ]
    },
    {
      "cell_type": "markdown",
      "id": "e89a2201",
      "metadata": {
        "id": "e89a2201"
      },
      "source": [
        "Предсказывая таргет для новых объектов в будущем, мы не будем заранее знать **charges**.\n",
        "\n",
        "Удалим эту колонку из датасета."
      ]
    },
    {
      "cell_type": "code",
      "execution_count": 77,
      "id": "1cff13cb",
      "metadata": {
        "ExecuteTime": {
          "start_time": "2023-04-12T10:52:59.717101Z",
          "end_time": "2023-04-12T10:52:59.790155Z"
        },
        "id": "1cff13cb"
      },
      "outputs": [],
      "source": [
        "insurance = insurance.drop(['charges'], axis=1)"
      ]
    },
    {
      "cell_type": "markdown",
      "id": "98985ea9",
      "metadata": {
        "id": "98985ea9"
      },
      "source": [
        "Переведем колонки sex и smoker во множество {0, 1}"
      ]
    },
    {
      "cell_type": "code",
      "execution_count": 78,
      "id": "8aa1f66c",
      "metadata": {
        "ExecuteTime": {
          "start_time": "2023-04-12T10:52:59.960168Z",
          "end_time": "2023-04-12T10:52:59.983636Z"
        },
        "id": "8aa1f66c"
      },
      "outputs": [],
      "source": [
        "insurance['sex'] = insurance['sex'].apply(lambda x: 0 if x == 'female' else 1)\n",
        "insurance['smoker'] = insurance['smoker'].apply(lambda x: 0 if x == 'no' else 1)"
      ]
    },
    {
      "cell_type": "markdown",
      "id": "c63d6264",
      "metadata": {
        "id": "c63d6264"
      },
      "source": [
        "Переведем колонку region во множество {0, 3}"
      ]
    },
    {
      "cell_type": "code",
      "execution_count": 79,
      "id": "3c488306",
      "metadata": {
        "ExecuteTime": {
          "start_time": "2023-04-12T10:53:02.311863Z",
          "end_time": "2023-04-12T10:53:02.732270Z"
        },
        "colab": {
          "base_uri": "https://localhost:8080/"
        },
        "id": "3c488306",
        "outputId": "03306ff8-dad7-4f30-80f8-785f75e5e88d"
      },
      "outputs": [
        {
          "output_type": "stream",
          "name": "stdout",
          "text": [
            "      age  sex     bmi  children  smoker  region  charges_coef\n",
            "0      19    0  27.900         0       1       1    605.194409\n",
            "1      18    1  33.770         1       0       0     51.097196\n",
            "2      28    1  33.000         3       0       0    134.832182\n",
            "3      33    1  22.705         0       0       2    968.265607\n",
            "4      32    1  28.880         0       0       2    133.893878\n",
            "...   ...  ...     ...       ...     ...     ...           ...\n",
            "1333   50    1  30.970         3       0       2    342.284414\n",
            "1334   18    0  31.920         0       0       3     69.109674\n",
            "1335   18    0  36.850         0       0       0     44.228860\n",
            "1336   21    0  25.800         0       0       1     77.827326\n",
            "1337   61    0  29.070         0       1       2   1002.454775\n",
            "\n",
            "[1338 rows x 7 columns]\n"
          ]
        }
      ],
      "source": [
        "region_dict = {'southeast': 0, 'southwest': 1, 'northwest': 2, 'northeast': 3}\n",
        "insurance['region'] = insurance['region'].apply(lambda x: region_dict[x])\n",
        "print(insurance)"
      ]
    },
    {
      "cell_type": "markdown",
      "source": [
        "Сохраним датасет с категориальными признаками для использования его в градиентном бустинге"
      ],
      "metadata": {
        "collapsed": false,
        "id": "uDPEtHMFgWv2"
      },
      "id": "uDPEtHMFgWv2"
    },
    {
      "cell_type": "code",
      "execution_count": 80,
      "id": "1aab1541",
      "metadata": {
        "ExecuteTime": {
          "start_time": "2023-04-12T10:53:09.205508Z",
          "end_time": "2023-04-12T10:53:09.363789Z"
        },
        "colab": {
          "base_uri": "https://localhost:8080/",
          "height": 237
        },
        "id": "1aab1541",
        "outputId": "8cf12675-53a4-4ac0-ce89-b6841060aa0d"
      },
      "outputs": [
        {
          "output_type": "execute_result",
          "data": {
            "text/plain": [
              "    age  sex     bmi  children  smoker  region  charges_coef\n",
              "id                                                          \n",
              "0    19    0  27.900         0       1       1    605.194409\n",
              "1    18    1  33.770         1       0       0     51.097196\n",
              "2    28    1  33.000         3       0       0    134.832182\n",
              "3    33    1  22.705         0       0       2    968.265607\n",
              "4    32    1  28.880         0       0       2    133.893878"
            ],
            "text/html": [
              "\n",
              "  <div id=\"df-fe4d9ac0-79c7-4021-856e-300a18424da3\">\n",
              "    <div class=\"colab-df-container\">\n",
              "      <div>\n",
              "<style scoped>\n",
              "    .dataframe tbody tr th:only-of-type {\n",
              "        vertical-align: middle;\n",
              "    }\n",
              "\n",
              "    .dataframe tbody tr th {\n",
              "        vertical-align: top;\n",
              "    }\n",
              "\n",
              "    .dataframe thead th {\n",
              "        text-align: right;\n",
              "    }\n",
              "</style>\n",
              "<table border=\"1\" class=\"dataframe\">\n",
              "  <thead>\n",
              "    <tr style=\"text-align: right;\">\n",
              "      <th></th>\n",
              "      <th>age</th>\n",
              "      <th>sex</th>\n",
              "      <th>bmi</th>\n",
              "      <th>children</th>\n",
              "      <th>smoker</th>\n",
              "      <th>region</th>\n",
              "      <th>charges_coef</th>\n",
              "    </tr>\n",
              "    <tr>\n",
              "      <th>id</th>\n",
              "      <th></th>\n",
              "      <th></th>\n",
              "      <th></th>\n",
              "      <th></th>\n",
              "      <th></th>\n",
              "      <th></th>\n",
              "      <th></th>\n",
              "    </tr>\n",
              "  </thead>\n",
              "  <tbody>\n",
              "    <tr>\n",
              "      <th>0</th>\n",
              "      <td>19</td>\n",
              "      <td>0</td>\n",
              "      <td>27.900</td>\n",
              "      <td>0</td>\n",
              "      <td>1</td>\n",
              "      <td>1</td>\n",
              "      <td>605.194409</td>\n",
              "    </tr>\n",
              "    <tr>\n",
              "      <th>1</th>\n",
              "      <td>18</td>\n",
              "      <td>1</td>\n",
              "      <td>33.770</td>\n",
              "      <td>1</td>\n",
              "      <td>0</td>\n",
              "      <td>0</td>\n",
              "      <td>51.097196</td>\n",
              "    </tr>\n",
              "    <tr>\n",
              "      <th>2</th>\n",
              "      <td>28</td>\n",
              "      <td>1</td>\n",
              "      <td>33.000</td>\n",
              "      <td>3</td>\n",
              "      <td>0</td>\n",
              "      <td>0</td>\n",
              "      <td>134.832182</td>\n",
              "    </tr>\n",
              "    <tr>\n",
              "      <th>3</th>\n",
              "      <td>33</td>\n",
              "      <td>1</td>\n",
              "      <td>22.705</td>\n",
              "      <td>0</td>\n",
              "      <td>0</td>\n",
              "      <td>2</td>\n",
              "      <td>968.265607</td>\n",
              "    </tr>\n",
              "    <tr>\n",
              "      <th>4</th>\n",
              "      <td>32</td>\n",
              "      <td>1</td>\n",
              "      <td>28.880</td>\n",
              "      <td>0</td>\n",
              "      <td>0</td>\n",
              "      <td>2</td>\n",
              "      <td>133.893878</td>\n",
              "    </tr>\n",
              "  </tbody>\n",
              "</table>\n",
              "</div>\n",
              "      <button class=\"colab-df-convert\" onclick=\"convertToInteractive('df-fe4d9ac0-79c7-4021-856e-300a18424da3')\"\n",
              "              title=\"Convert this dataframe to an interactive table.\"\n",
              "              style=\"display:none;\">\n",
              "        \n",
              "  <svg xmlns=\"http://www.w3.org/2000/svg\" height=\"24px\"viewBox=\"0 0 24 24\"\n",
              "       width=\"24px\">\n",
              "    <path d=\"M0 0h24v24H0V0z\" fill=\"none\"/>\n",
              "    <path d=\"M18.56 5.44l.94 2.06.94-2.06 2.06-.94-2.06-.94-.94-2.06-.94 2.06-2.06.94zm-11 1L8.5 8.5l.94-2.06 2.06-.94-2.06-.94L8.5 2.5l-.94 2.06-2.06.94zm10 10l.94 2.06.94-2.06 2.06-.94-2.06-.94-.94-2.06-.94 2.06-2.06.94z\"/><path d=\"M17.41 7.96l-1.37-1.37c-.4-.4-.92-.59-1.43-.59-.52 0-1.04.2-1.43.59L10.3 9.45l-7.72 7.72c-.78.78-.78 2.05 0 2.83L4 21.41c.39.39.9.59 1.41.59.51 0 1.02-.2 1.41-.59l7.78-7.78 2.81-2.81c.8-.78.8-2.07 0-2.86zM5.41 20L4 18.59l7.72-7.72 1.47 1.35L5.41 20z\"/>\n",
              "  </svg>\n",
              "      </button>\n",
              "      \n",
              "  <style>\n",
              "    .colab-df-container {\n",
              "      display:flex;\n",
              "      flex-wrap:wrap;\n",
              "      gap: 12px;\n",
              "    }\n",
              "\n",
              "    .colab-df-convert {\n",
              "      background-color: #E8F0FE;\n",
              "      border: none;\n",
              "      border-radius: 50%;\n",
              "      cursor: pointer;\n",
              "      display: none;\n",
              "      fill: #1967D2;\n",
              "      height: 32px;\n",
              "      padding: 0 0 0 0;\n",
              "      width: 32px;\n",
              "    }\n",
              "\n",
              "    .colab-df-convert:hover {\n",
              "      background-color: #E2EBFA;\n",
              "      box-shadow: 0px 1px 2px rgba(60, 64, 67, 0.3), 0px 1px 3px 1px rgba(60, 64, 67, 0.15);\n",
              "      fill: #174EA6;\n",
              "    }\n",
              "\n",
              "    [theme=dark] .colab-df-convert {\n",
              "      background-color: #3B4455;\n",
              "      fill: #D2E3FC;\n",
              "    }\n",
              "\n",
              "    [theme=dark] .colab-df-convert:hover {\n",
              "      background-color: #434B5C;\n",
              "      box-shadow: 0px 1px 3px 1px rgba(0, 0, 0, 0.15);\n",
              "      filter: drop-shadow(0px 1px 2px rgba(0, 0, 0, 0.3));\n",
              "      fill: #FFFFFF;\n",
              "    }\n",
              "  </style>\n",
              "\n",
              "      <script>\n",
              "        const buttonEl =\n",
              "          document.querySelector('#df-fe4d9ac0-79c7-4021-856e-300a18424da3 button.colab-df-convert');\n",
              "        buttonEl.style.display =\n",
              "          google.colab.kernel.accessAllowed ? 'block' : 'none';\n",
              "\n",
              "        async function convertToInteractive(key) {\n",
              "          const element = document.querySelector('#df-fe4d9ac0-79c7-4021-856e-300a18424da3');\n",
              "          const dataTable =\n",
              "            await google.colab.kernel.invokeFunction('convertToInteractive',\n",
              "                                                     [key], {});\n",
              "          if (!dataTable) return;\n",
              "\n",
              "          const docLinkHtml = 'Like what you see? Visit the ' +\n",
              "            '<a target=\"_blank\" href=https://colab.research.google.com/notebooks/data_table.ipynb>data table notebook</a>'\n",
              "            + ' to learn more about interactive tables.';\n",
              "          element.innerHTML = '';\n",
              "          dataTable['output_type'] = 'display_data';\n",
              "          await google.colab.output.renderOutput(dataTable, element);\n",
              "          const docLink = document.createElement('div');\n",
              "          docLink.innerHTML = docLinkHtml;\n",
              "          element.appendChild(docLink);\n",
              "        }\n",
              "      </script>\n",
              "    </div>\n",
              "  </div>\n",
              "  "
            ]
          },
          "metadata": {},
          "execution_count": 80
        }
      ],
      "source": [
        "insurance['id'] = [i for i in range(len(insurance))]\n",
        "insurance = insurance.set_index('id')\n",
        "insurance_for_lgb = insurance.copy()\n",
        "insurance_for_lgb.head()"
      ]
    },
    {
      "cell_type": "code",
      "source": [
        "insurance['children'].value_counts()"
      ],
      "metadata": {
        "colab": {
          "base_uri": "https://localhost:8080/"
        },
        "id": "PDEfLCNdtOyZ",
        "outputId": "c3ae0707-ad57-459b-8698-912b591908cd"
      },
      "id": "PDEfLCNdtOyZ",
      "execution_count": 81,
      "outputs": [
        {
          "output_type": "execute_result",
          "data": {
            "text/plain": [
              "0    574\n",
              "1    324\n",
              "2    240\n",
              "3    157\n",
              "4     25\n",
              "5     18\n",
              "Name: children, dtype: int64"
            ]
          },
          "metadata": {},
          "execution_count": 81
        }
      ]
    },
    {
      "cell_type": "markdown",
      "id": "5aa24928",
      "metadata": {
        "id": "5aa24928"
      },
      "source": [
        "Реализуем mean-target encoding, заменив колонку children колонкой children_category"
      ]
    },
    {
      "cell_type": "code",
      "execution_count": 82,
      "id": "9a04a6ad",
      "metadata": {
        "ExecuteTime": {
          "start_time": "2023-04-12T10:53:11.590407Z",
          "end_time": "2023-04-12T10:53:11.719476Z"
        },
        "colab": {
          "base_uri": "https://localhost:8080/",
          "height": 394
        },
        "id": "9a04a6ad",
        "outputId": "d41b617c-18e0-49d2-afe8-f209e3c3c2a5"
      },
      "outputs": [
        {
          "output_type": "execute_result",
          "data": {
            "text/plain": [
              "    age  sex     bmi  children_category  smoker  region  charges_coef\n",
              "id                                                                   \n",
              "0    19    0  27.900         406.241092       1       1    605.194409\n",
              "1    18    1  33.770         416.672842       0       0     51.097196\n",
              "2    28    1  33.000         499.907585       0       0    134.832182\n",
              "3    33    1  22.705         406.241092       0       2    968.265607\n",
              "4    32    1  28.880         406.241092       0       2    133.893878\n",
              "5    31    0  25.740         406.241092       0       0    145.944895\n",
              "6    46    0  33.440         416.672842       0       0    246.429115\n",
              "7    37    0  27.740         499.907585       0       2    262.491190\n",
              "8    37    1  29.830         488.251312       0       3    214.764019\n",
              "9    60    0  25.840         406.241092       0       2   1119.316444"
            ],
            "text/html": [
              "\n",
              "  <div id=\"df-40858752-ab20-4f55-a3db-d3f226114670\">\n",
              "    <div class=\"colab-df-container\">\n",
              "      <div>\n",
              "<style scoped>\n",
              "    .dataframe tbody tr th:only-of-type {\n",
              "        vertical-align: middle;\n",
              "    }\n",
              "\n",
              "    .dataframe tbody tr th {\n",
              "        vertical-align: top;\n",
              "    }\n",
              "\n",
              "    .dataframe thead th {\n",
              "        text-align: right;\n",
              "    }\n",
              "</style>\n",
              "<table border=\"1\" class=\"dataframe\">\n",
              "  <thead>\n",
              "    <tr style=\"text-align: right;\">\n",
              "      <th></th>\n",
              "      <th>age</th>\n",
              "      <th>sex</th>\n",
              "      <th>bmi</th>\n",
              "      <th>children_category</th>\n",
              "      <th>smoker</th>\n",
              "      <th>region</th>\n",
              "      <th>charges_coef</th>\n",
              "    </tr>\n",
              "    <tr>\n",
              "      <th>id</th>\n",
              "      <th></th>\n",
              "      <th></th>\n",
              "      <th></th>\n",
              "      <th></th>\n",
              "      <th></th>\n",
              "      <th></th>\n",
              "      <th></th>\n",
              "    </tr>\n",
              "  </thead>\n",
              "  <tbody>\n",
              "    <tr>\n",
              "      <th>0</th>\n",
              "      <td>19</td>\n",
              "      <td>0</td>\n",
              "      <td>27.900</td>\n",
              "      <td>406.241092</td>\n",
              "      <td>1</td>\n",
              "      <td>1</td>\n",
              "      <td>605.194409</td>\n",
              "    </tr>\n",
              "    <tr>\n",
              "      <th>1</th>\n",
              "      <td>18</td>\n",
              "      <td>1</td>\n",
              "      <td>33.770</td>\n",
              "      <td>416.672842</td>\n",
              "      <td>0</td>\n",
              "      <td>0</td>\n",
              "      <td>51.097196</td>\n",
              "    </tr>\n",
              "    <tr>\n",
              "      <th>2</th>\n",
              "      <td>28</td>\n",
              "      <td>1</td>\n",
              "      <td>33.000</td>\n",
              "      <td>499.907585</td>\n",
              "      <td>0</td>\n",
              "      <td>0</td>\n",
              "      <td>134.832182</td>\n",
              "    </tr>\n",
              "    <tr>\n",
              "      <th>3</th>\n",
              "      <td>33</td>\n",
              "      <td>1</td>\n",
              "      <td>22.705</td>\n",
              "      <td>406.241092</td>\n",
              "      <td>0</td>\n",
              "      <td>2</td>\n",
              "      <td>968.265607</td>\n",
              "    </tr>\n",
              "    <tr>\n",
              "      <th>4</th>\n",
              "      <td>32</td>\n",
              "      <td>1</td>\n",
              "      <td>28.880</td>\n",
              "      <td>406.241092</td>\n",
              "      <td>0</td>\n",
              "      <td>2</td>\n",
              "      <td>133.893878</td>\n",
              "    </tr>\n",
              "    <tr>\n",
              "      <th>5</th>\n",
              "      <td>31</td>\n",
              "      <td>0</td>\n",
              "      <td>25.740</td>\n",
              "      <td>406.241092</td>\n",
              "      <td>0</td>\n",
              "      <td>0</td>\n",
              "      <td>145.944895</td>\n",
              "    </tr>\n",
              "    <tr>\n",
              "      <th>6</th>\n",
              "      <td>46</td>\n",
              "      <td>0</td>\n",
              "      <td>33.440</td>\n",
              "      <td>416.672842</td>\n",
              "      <td>0</td>\n",
              "      <td>0</td>\n",
              "      <td>246.429115</td>\n",
              "    </tr>\n",
              "    <tr>\n",
              "      <th>7</th>\n",
              "      <td>37</td>\n",
              "      <td>0</td>\n",
              "      <td>27.740</td>\n",
              "      <td>499.907585</td>\n",
              "      <td>0</td>\n",
              "      <td>2</td>\n",
              "      <td>262.491190</td>\n",
              "    </tr>\n",
              "    <tr>\n",
              "      <th>8</th>\n",
              "      <td>37</td>\n",
              "      <td>1</td>\n",
              "      <td>29.830</td>\n",
              "      <td>488.251312</td>\n",
              "      <td>0</td>\n",
              "      <td>3</td>\n",
              "      <td>214.764019</td>\n",
              "    </tr>\n",
              "    <tr>\n",
              "      <th>9</th>\n",
              "      <td>60</td>\n",
              "      <td>0</td>\n",
              "      <td>25.840</td>\n",
              "      <td>406.241092</td>\n",
              "      <td>0</td>\n",
              "      <td>2</td>\n",
              "      <td>1119.316444</td>\n",
              "    </tr>\n",
              "  </tbody>\n",
              "</table>\n",
              "</div>\n",
              "      <button class=\"colab-df-convert\" onclick=\"convertToInteractive('df-40858752-ab20-4f55-a3db-d3f226114670')\"\n",
              "              title=\"Convert this dataframe to an interactive table.\"\n",
              "              style=\"display:none;\">\n",
              "        \n",
              "  <svg xmlns=\"http://www.w3.org/2000/svg\" height=\"24px\"viewBox=\"0 0 24 24\"\n",
              "       width=\"24px\">\n",
              "    <path d=\"M0 0h24v24H0V0z\" fill=\"none\"/>\n",
              "    <path d=\"M18.56 5.44l.94 2.06.94-2.06 2.06-.94-2.06-.94-.94-2.06-.94 2.06-2.06.94zm-11 1L8.5 8.5l.94-2.06 2.06-.94-2.06-.94L8.5 2.5l-.94 2.06-2.06.94zm10 10l.94 2.06.94-2.06 2.06-.94-2.06-.94-.94-2.06-.94 2.06-2.06.94z\"/><path d=\"M17.41 7.96l-1.37-1.37c-.4-.4-.92-.59-1.43-.59-.52 0-1.04.2-1.43.59L10.3 9.45l-7.72 7.72c-.78.78-.78 2.05 0 2.83L4 21.41c.39.39.9.59 1.41.59.51 0 1.02-.2 1.41-.59l7.78-7.78 2.81-2.81c.8-.78.8-2.07 0-2.86zM5.41 20L4 18.59l7.72-7.72 1.47 1.35L5.41 20z\"/>\n",
              "  </svg>\n",
              "      </button>\n",
              "      \n",
              "  <style>\n",
              "    .colab-df-container {\n",
              "      display:flex;\n",
              "      flex-wrap:wrap;\n",
              "      gap: 12px;\n",
              "    }\n",
              "\n",
              "    .colab-df-convert {\n",
              "      background-color: #E8F0FE;\n",
              "      border: none;\n",
              "      border-radius: 50%;\n",
              "      cursor: pointer;\n",
              "      display: none;\n",
              "      fill: #1967D2;\n",
              "      height: 32px;\n",
              "      padding: 0 0 0 0;\n",
              "      width: 32px;\n",
              "    }\n",
              "\n",
              "    .colab-df-convert:hover {\n",
              "      background-color: #E2EBFA;\n",
              "      box-shadow: 0px 1px 2px rgba(60, 64, 67, 0.3), 0px 1px 3px 1px rgba(60, 64, 67, 0.15);\n",
              "      fill: #174EA6;\n",
              "    }\n",
              "\n",
              "    [theme=dark] .colab-df-convert {\n",
              "      background-color: #3B4455;\n",
              "      fill: #D2E3FC;\n",
              "    }\n",
              "\n",
              "    [theme=dark] .colab-df-convert:hover {\n",
              "      background-color: #434B5C;\n",
              "      box-shadow: 0px 1px 3px 1px rgba(0, 0, 0, 0.15);\n",
              "      filter: drop-shadow(0px 1px 2px rgba(0, 0, 0, 0.3));\n",
              "      fill: #FFFFFF;\n",
              "    }\n",
              "  </style>\n",
              "\n",
              "      <script>\n",
              "        const buttonEl =\n",
              "          document.querySelector('#df-40858752-ab20-4f55-a3db-d3f226114670 button.colab-df-convert');\n",
              "        buttonEl.style.display =\n",
              "          google.colab.kernel.accessAllowed ? 'block' : 'none';\n",
              "\n",
              "        async function convertToInteractive(key) {\n",
              "          const element = document.querySelector('#df-40858752-ab20-4f55-a3db-d3f226114670');\n",
              "          const dataTable =\n",
              "            await google.colab.kernel.invokeFunction('convertToInteractive',\n",
              "                                                     [key], {});\n",
              "          if (!dataTable) return;\n",
              "\n",
              "          const docLinkHtml = 'Like what you see? Visit the ' +\n",
              "            '<a target=\"_blank\" href=https://colab.research.google.com/notebooks/data_table.ipynb>data table notebook</a>'\n",
              "            + ' to learn more about interactive tables.';\n",
              "          element.innerHTML = '';\n",
              "          dataTable['output_type'] = 'display_data';\n",
              "          await google.colab.output.renderOutput(dataTable, element);\n",
              "          const docLink = document.createElement('div');\n",
              "          docLink.innerHTML = docLinkHtml;\n",
              "          element.appendChild(docLink);\n",
              "        }\n",
              "      </script>\n",
              "    </div>\n",
              "  </div>\n",
              "  "
            ]
          },
          "metadata": {},
          "execution_count": 82
        }
      ],
      "source": [
        "insurance['children'] = insurance['children'].map(insurance.groupby(['children'])['charges_coef'].mean())\n",
        "insurance = insurance.rename(columns={'children': 'children_category'})\n",
        "insurance.head(10)"
      ]
    },
    {
      "cell_type": "code",
      "execution_count": 83,
      "id": "7433a5f9",
      "metadata": {
        "ExecuteTime": {
          "start_time": "2023-04-12T10:53:12.625183Z",
          "end_time": "2023-04-12T10:53:14.493880Z"
        },
        "colab": {
          "base_uri": "https://localhost:8080/"
        },
        "id": "7433a5f9",
        "outputId": "dc0ff3cb-50ab-4cc9-bb69-2940bf37fae8"
      },
      "outputs": [
        {
          "output_type": "stream",
          "name": "stdout",
          "text": [
            "age 8.602585028212745\n",
            "sex -9.426100394120667\n",
            "bmi -2.7463309109875524\n",
            "children_category 0.3369227995148387\n",
            "smoker 745.9978862226509\n",
            "region 7.950568246541823\n",
            "-123.38073324431565\n"
          ]
        }
      ],
      "source": [
        "from sklearn.linear_model import LinearRegression\n",
        "from sklearn.model_selection import train_test_split\n",
        "X = insurance.drop(['charges_coef'], axis=1)\n",
        "y = insurance['charges_coef']\n",
        "\n",
        "X_train, X_test, y_train, y_test = train_test_split(X, y, test_size=0.2, random_state=42)\n",
        "\n",
        "model=LinearRegression()\n",
        "model.fit(X_train, y_train)\n",
        "for column, coef in zip(X_train.columns, model.coef_):\n",
        "    print(column, coef)\n",
        "print(model.intercept_)"
      ]
    },
    {
      "cell_type": "code",
      "execution_count": 84,
      "id": "5620ba3f",
      "metadata": {
        "ExecuteTime": {
          "start_time": "2023-04-12T10:53:14.493880Z",
          "end_time": "2023-04-12T10:53:14.701838Z"
        },
        "colab": {
          "base_uri": "https://localhost:8080/"
        },
        "id": "5620ba3f",
        "outputId": "9638373a-4b65-4897-b773-14968cba5e52"
      },
      "outputs": [
        {
          "output_type": "stream",
          "name": "stdout",
          "text": [
            "MSE = 26229.988366289814\n",
            "MAE = 110.61341691093047\n",
            "r2_score  = 0.8136289547696308\n"
          ]
        }
      ],
      "source": [
        "from sklearn.metrics import mean_squared_error\n",
        "from sklearn.metrics import mean_absolute_error\n",
        "from sklearn.metrics import r2_score\n",
        "\n",
        "features = X_test\n",
        "y_pred = model.predict(features) # предсказание\n",
        "y_true = y_test # истина\n",
        "\n",
        "print(f\"MSE = {mean_squared_error(y_true, y_pred)}\")\n",
        "print(f\"MAE = {mean_absolute_error(y_pred, y_true)}\")\n",
        "print(f\"r2_score  = {r2_score(y_true, y_pred)}\")"
      ]
    },
    {
      "cell_type": "code",
      "execution_count": 85,
      "id": "71b98c53",
      "metadata": {
        "ExecuteTime": {
          "start_time": "2023-04-12T10:53:14.701838Z",
          "end_time": "2023-04-12T10:53:14.717305Z"
        },
        "colab": {
          "base_uri": "https://localhost:8080/",
          "height": 551
        },
        "id": "71b98c53",
        "outputId": "b27b2c1d-5844-484c-af0a-dcdbc465a35a"
      },
      "outputs": [
        {
          "output_type": "execute_result",
          "data": {
            "text/plain": [
              "      charges_coef   prediction\n",
              "id                             \n",
              "764     361.273813   382.951416\n",
              "887     175.622112   256.640496\n",
              "890    1090.979474  1252.120511\n",
              "1293    361.308742   376.539188\n",
              "259    1057.339969   841.750308\n",
              "1312    105.740303   190.200610\n",
              "899      94.041255   131.007764\n",
              "752     374.898719   466.431958\n",
              "1286    215.883464   230.731177\n",
              "707     357.770725   394.258998\n",
              "780     748.328525   980.638961\n",
              "567     237.225338   316.293025\n",
              "76      133.403619   185.216881\n",
              "265    1089.755006  1061.033113\n",
              "901    1189.480909  1153.838180"
            ],
            "text/html": [
              "\n",
              "  <div id=\"df-94afbefb-de06-475b-b6cc-fbf59085c8a9\">\n",
              "    <div class=\"colab-df-container\">\n",
              "      <div>\n",
              "<style scoped>\n",
              "    .dataframe tbody tr th:only-of-type {\n",
              "        vertical-align: middle;\n",
              "    }\n",
              "\n",
              "    .dataframe tbody tr th {\n",
              "        vertical-align: top;\n",
              "    }\n",
              "\n",
              "    .dataframe thead th {\n",
              "        text-align: right;\n",
              "    }\n",
              "</style>\n",
              "<table border=\"1\" class=\"dataframe\">\n",
              "  <thead>\n",
              "    <tr style=\"text-align: right;\">\n",
              "      <th></th>\n",
              "      <th>charges_coef</th>\n",
              "      <th>prediction</th>\n",
              "    </tr>\n",
              "    <tr>\n",
              "      <th>id</th>\n",
              "      <th></th>\n",
              "      <th></th>\n",
              "    </tr>\n",
              "  </thead>\n",
              "  <tbody>\n",
              "    <tr>\n",
              "      <th>764</th>\n",
              "      <td>361.273813</td>\n",
              "      <td>382.951416</td>\n",
              "    </tr>\n",
              "    <tr>\n",
              "      <th>887</th>\n",
              "      <td>175.622112</td>\n",
              "      <td>256.640496</td>\n",
              "    </tr>\n",
              "    <tr>\n",
              "      <th>890</th>\n",
              "      <td>1090.979474</td>\n",
              "      <td>1252.120511</td>\n",
              "    </tr>\n",
              "    <tr>\n",
              "      <th>1293</th>\n",
              "      <td>361.308742</td>\n",
              "      <td>376.539188</td>\n",
              "    </tr>\n",
              "    <tr>\n",
              "      <th>259</th>\n",
              "      <td>1057.339969</td>\n",
              "      <td>841.750308</td>\n",
              "    </tr>\n",
              "    <tr>\n",
              "      <th>1312</th>\n",
              "      <td>105.740303</td>\n",
              "      <td>190.200610</td>\n",
              "    </tr>\n",
              "    <tr>\n",
              "      <th>899</th>\n",
              "      <td>94.041255</td>\n",
              "      <td>131.007764</td>\n",
              "    </tr>\n",
              "    <tr>\n",
              "      <th>752</th>\n",
              "      <td>374.898719</td>\n",
              "      <td>466.431958</td>\n",
              "    </tr>\n",
              "    <tr>\n",
              "      <th>1286</th>\n",
              "      <td>215.883464</td>\n",
              "      <td>230.731177</td>\n",
              "    </tr>\n",
              "    <tr>\n",
              "      <th>707</th>\n",
              "      <td>357.770725</td>\n",
              "      <td>394.258998</td>\n",
              "    </tr>\n",
              "    <tr>\n",
              "      <th>780</th>\n",
              "      <td>748.328525</td>\n",
              "      <td>980.638961</td>\n",
              "    </tr>\n",
              "    <tr>\n",
              "      <th>567</th>\n",
              "      <td>237.225338</td>\n",
              "      <td>316.293025</td>\n",
              "    </tr>\n",
              "    <tr>\n",
              "      <th>76</th>\n",
              "      <td>133.403619</td>\n",
              "      <td>185.216881</td>\n",
              "    </tr>\n",
              "    <tr>\n",
              "      <th>265</th>\n",
              "      <td>1089.755006</td>\n",
              "      <td>1061.033113</td>\n",
              "    </tr>\n",
              "    <tr>\n",
              "      <th>901</th>\n",
              "      <td>1189.480909</td>\n",
              "      <td>1153.838180</td>\n",
              "    </tr>\n",
              "  </tbody>\n",
              "</table>\n",
              "</div>\n",
              "      <button class=\"colab-df-convert\" onclick=\"convertToInteractive('df-94afbefb-de06-475b-b6cc-fbf59085c8a9')\"\n",
              "              title=\"Convert this dataframe to an interactive table.\"\n",
              "              style=\"display:none;\">\n",
              "        \n",
              "  <svg xmlns=\"http://www.w3.org/2000/svg\" height=\"24px\"viewBox=\"0 0 24 24\"\n",
              "       width=\"24px\">\n",
              "    <path d=\"M0 0h24v24H0V0z\" fill=\"none\"/>\n",
              "    <path d=\"M18.56 5.44l.94 2.06.94-2.06 2.06-.94-2.06-.94-.94-2.06-.94 2.06-2.06.94zm-11 1L8.5 8.5l.94-2.06 2.06-.94-2.06-.94L8.5 2.5l-.94 2.06-2.06.94zm10 10l.94 2.06.94-2.06 2.06-.94-2.06-.94-.94-2.06-.94 2.06-2.06.94z\"/><path d=\"M17.41 7.96l-1.37-1.37c-.4-.4-.92-.59-1.43-.59-.52 0-1.04.2-1.43.59L10.3 9.45l-7.72 7.72c-.78.78-.78 2.05 0 2.83L4 21.41c.39.39.9.59 1.41.59.51 0 1.02-.2 1.41-.59l7.78-7.78 2.81-2.81c.8-.78.8-2.07 0-2.86zM5.41 20L4 18.59l7.72-7.72 1.47 1.35L5.41 20z\"/>\n",
              "  </svg>\n",
              "      </button>\n",
              "      \n",
              "  <style>\n",
              "    .colab-df-container {\n",
              "      display:flex;\n",
              "      flex-wrap:wrap;\n",
              "      gap: 12px;\n",
              "    }\n",
              "\n",
              "    .colab-df-convert {\n",
              "      background-color: #E8F0FE;\n",
              "      border: none;\n",
              "      border-radius: 50%;\n",
              "      cursor: pointer;\n",
              "      display: none;\n",
              "      fill: #1967D2;\n",
              "      height: 32px;\n",
              "      padding: 0 0 0 0;\n",
              "      width: 32px;\n",
              "    }\n",
              "\n",
              "    .colab-df-convert:hover {\n",
              "      background-color: #E2EBFA;\n",
              "      box-shadow: 0px 1px 2px rgba(60, 64, 67, 0.3), 0px 1px 3px 1px rgba(60, 64, 67, 0.15);\n",
              "      fill: #174EA6;\n",
              "    }\n",
              "\n",
              "    [theme=dark] .colab-df-convert {\n",
              "      background-color: #3B4455;\n",
              "      fill: #D2E3FC;\n",
              "    }\n",
              "\n",
              "    [theme=dark] .colab-df-convert:hover {\n",
              "      background-color: #434B5C;\n",
              "      box-shadow: 0px 1px 3px 1px rgba(0, 0, 0, 0.15);\n",
              "      filter: drop-shadow(0px 1px 2px rgba(0, 0, 0, 0.3));\n",
              "      fill: #FFFFFF;\n",
              "    }\n",
              "  </style>\n",
              "\n",
              "      <script>\n",
              "        const buttonEl =\n",
              "          document.querySelector('#df-94afbefb-de06-475b-b6cc-fbf59085c8a9 button.colab-df-convert');\n",
              "        buttonEl.style.display =\n",
              "          google.colab.kernel.accessAllowed ? 'block' : 'none';\n",
              "\n",
              "        async function convertToInteractive(key) {\n",
              "          const element = document.querySelector('#df-94afbefb-de06-475b-b6cc-fbf59085c8a9');\n",
              "          const dataTable =\n",
              "            await google.colab.kernel.invokeFunction('convertToInteractive',\n",
              "                                                     [key], {});\n",
              "          if (!dataTable) return;\n",
              "\n",
              "          const docLinkHtml = 'Like what you see? Visit the ' +\n",
              "            '<a target=\"_blank\" href=https://colab.research.google.com/notebooks/data_table.ipynb>data table notebook</a>'\n",
              "            + ' to learn more about interactive tables.';\n",
              "          element.innerHTML = '';\n",
              "          dataTable['output_type'] = 'display_data';\n",
              "          await google.colab.output.renderOutput(dataTable, element);\n",
              "          const docLink = document.createElement('div');\n",
              "          docLink.innerHTML = docLinkHtml;\n",
              "          element.appendChild(docLink);\n",
              "        }\n",
              "      </script>\n",
              "    </div>\n",
              "  </div>\n",
              "  "
            ]
          },
          "metadata": {},
          "execution_count": 85
        }
      ],
      "source": [
        "df = pd.DataFrame(y_true.copy())\n",
        "df['prediction'] = y_pred\n",
        "df.head(15)"
      ]
    },
    {
      "cell_type": "markdown",
      "id": "02d563fe",
      "metadata": {
        "id": "02d563fe"
      },
      "source": [
        "Исходя из метрик можно сказать, что моя модель не очень хорошо предсказывает коэффициент стоимости страховки, ошибаясь в среднем на 111 пунктов (MAE)."
      ]
    },
    {
      "cell_type": "markdown",
      "id": "6e1cc322",
      "metadata": {
        "id": "6e1cc322"
      },
      "source": [
        "# ЛР №4"
      ]
    },
    {
      "cell_type": "code",
      "execution_count": 96,
      "id": "835fa9fe",
      "metadata": {
        "ExecuteTime": {
          "start_time": "2023-04-12T10:53:17.449872Z",
          "end_time": "2023-04-12T10:53:23.645209Z"
        },
        "colab": {
          "base_uri": "https://localhost:8080/"
        },
        "id": "835fa9fe",
        "outputId": "87145f1c-eebb-4e42-dff1-8ba1fc017634"
      },
      "outputs": [
        {
          "output_type": "stream",
          "name": "stdout",
          "text": [
            "\n",
            "MSE: 23354.775127448884\n",
            "MAE = 86.67762517599023\n",
            "r2_score  = 0.8340581097162509\n",
            "\n"
          ]
        },
        {
          "output_type": "stream",
          "name": "stderr",
          "text": [
            "/usr/local/lib/python3.9/dist-packages/lightgbm/basic.py:1487: UserWarning: categorical_feature keyword has been found in `params` and will be ignored.\n",
            "Please use categorical_feature argument of the Dataset constructor to pass this parameter.\n",
            "  _log_warning(f'{key} keyword has been found in `params` and will be ignored.\\n'\n",
            "/usr/local/lib/python3.9/dist-packages/lightgbm/basic.py:1513: UserWarning: categorical_feature in param dict is overridden.\n",
            "  _log_warning(f'{cat_alias} in param dict is overridden.')\n"
          ]
        }
      ],
      "source": [
        "import numpy as np\n",
        "import lightgbm as lgb\n",
        "\n",
        "insurance_for_lgb['children'] = insurance_for_lgb['children'].astype('category')\n",
        "children_features = np.unique(insurance_for_lgb['children'].values, axis=0)\n",
        "\n",
        "X = insurance_for_lgb.drop(['charges_coef'], axis=1)\n",
        "y = insurance_for_lgb['charges_coef']\n",
        "X_train, X_test, y_train, y_test = train_test_split(X, y, test_size=0.2,\n",
        "                                                    random_state=42)\n",
        "\n",
        "model = lgb.LGBMRegressor(num_leaves=31,  # Количество листьев в дереве\n",
        "                          learning_rate=0.1,  # Скорость обучения\n",
        "                          n_estimators=100,  # Количество деревьев\n",
        "                          categorical_feature=children_features,  # Список категориальных признаков\n",
        "                          random_state=42)  # Случайное начальное состояние для воспроизводимости\n",
        "model.fit(X_train, y_train)\n",
        "y_pred = model.predict(X_test)\n",
        "print()\n",
        "print(f\"MSE: {np.mean((y_test - y_pred) ** 2)}\")\n",
        "print(f\"MAE = {mean_absolute_error(y_pred, y_test)}\")\n",
        "print(f\"r2_score  = {r2_score(y_true, y_pred)}\")\n",
        "print()"
      ]
    },
    {
      "cell_type": "markdown",
      "source": [
        "Градиентный бустинг оказался не намного лучше обычной регрессии (-24 пункта), поэтому можно предположить, что по заданным данным трудно довольно точно предсказать коэффициент стоимости."
      ],
      "metadata": {
        "collapsed": false,
        "id": "2SzyMuyFgWv6"
      },
      "id": "2SzyMuyFgWv6"
    }
  ],
  "metadata": {
    "kernelspec": {
      "display_name": "Python 3 (ipykernel)",
      "language": "python",
      "name": "python3"
    },
    "language_info": {
      "codemirror_mode": {
        "name": "ipython",
        "version": 3
      },
      "file_extension": ".py",
      "mimetype": "text/x-python",
      "name": "python",
      "nbconvert_exporter": "python",
      "pygments_lexer": "ipython3",
      "version": "3.11.3"
    },
    "colab": {
      "provenance": []
    }
  },
  "nbformat": 4,
  "nbformat_minor": 5
}